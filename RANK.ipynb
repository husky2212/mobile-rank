{
 "cells": [
  {
   "cell_type": "code",
   "execution_count": 36,
   "id": "2f6d68eb",
   "metadata": {},
   "outputs": [],
   "source": [
    "import pandas as pd\n",
    "from functools import reduce\n"
   ]
  },
  {
   "cell_type": "code",
   "execution_count": 37,
   "id": "6aafaf5b",
   "metadata": {},
   "outputs": [
    {
     "ename": "ParserError",
     "evalue": "Error tokenizing data. C error: Expected 2 fields in line 5, saw 4\n",
     "output_type": "error",
     "traceback": [
      "\u001b[1;31m---------------------------------------------------------------------------\u001b[0m",
      "\u001b[1;31mParserError\u001b[0m                               Traceback (most recent call last)",
      "Input \u001b[1;32mIn [37]\u001b[0m, in \u001b[0;36m<cell line: 1>\u001b[1;34m()\u001b[0m\n\u001b[1;32m----> 1\u001b[0m data \u001b[38;5;241m=\u001b[39m \u001b[43mpd\u001b[49m\u001b[38;5;241;43m.\u001b[39;49m\u001b[43mread_csv\u001b[49m\u001b[43m(\u001b[49m\u001b[38;5;124;43m\"\u001b[39;49m\u001b[38;5;124;43mcanalys_smartphone_model_level_estimates.csv\u001b[39;49m\u001b[38;5;124;43m\"\u001b[39;49m\u001b[43m,\u001b[49m\u001b[43m \u001b[49m\u001b[43mencoding\u001b[49m\u001b[43m \u001b[49m\u001b[38;5;241;43m=\u001b[39;49m\u001b[43m \u001b[49m\u001b[38;5;124;43m'\u001b[39;49m\u001b[38;5;124;43mISO-8859-1\u001b[39;49m\u001b[38;5;124;43m'\u001b[39;49m\u001b[43m)\u001b[49m\n",
      "File \u001b[1;32m~\\lib\\site-packages\\pandas\\util\\_decorators.py:311\u001b[0m, in \u001b[0;36mdeprecate_nonkeyword_arguments.<locals>.decorate.<locals>.wrapper\u001b[1;34m(*args, **kwargs)\u001b[0m\n\u001b[0;32m    305\u001b[0m \u001b[38;5;28;01mif\u001b[39;00m \u001b[38;5;28mlen\u001b[39m(args) \u001b[38;5;241m>\u001b[39m num_allow_args:\n\u001b[0;32m    306\u001b[0m     warnings\u001b[38;5;241m.\u001b[39mwarn(\n\u001b[0;32m    307\u001b[0m         msg\u001b[38;5;241m.\u001b[39mformat(arguments\u001b[38;5;241m=\u001b[39marguments),\n\u001b[0;32m    308\u001b[0m         \u001b[38;5;167;01mFutureWarning\u001b[39;00m,\n\u001b[0;32m    309\u001b[0m         stacklevel\u001b[38;5;241m=\u001b[39mstacklevel,\n\u001b[0;32m    310\u001b[0m     )\n\u001b[1;32m--> 311\u001b[0m \u001b[38;5;28;01mreturn\u001b[39;00m func(\u001b[38;5;241m*\u001b[39margs, \u001b[38;5;241m*\u001b[39m\u001b[38;5;241m*\u001b[39mkwargs)\n",
      "File \u001b[1;32m~\\lib\\site-packages\\pandas\\io\\parsers\\readers.py:680\u001b[0m, in \u001b[0;36mread_csv\u001b[1;34m(filepath_or_buffer, sep, delimiter, header, names, index_col, usecols, squeeze, prefix, mangle_dupe_cols, dtype, engine, converters, true_values, false_values, skipinitialspace, skiprows, skipfooter, nrows, na_values, keep_default_na, na_filter, verbose, skip_blank_lines, parse_dates, infer_datetime_format, keep_date_col, date_parser, dayfirst, cache_dates, iterator, chunksize, compression, thousands, decimal, lineterminator, quotechar, quoting, doublequote, escapechar, comment, encoding, encoding_errors, dialect, error_bad_lines, warn_bad_lines, on_bad_lines, delim_whitespace, low_memory, memory_map, float_precision, storage_options)\u001b[0m\n\u001b[0;32m    665\u001b[0m kwds_defaults \u001b[38;5;241m=\u001b[39m _refine_defaults_read(\n\u001b[0;32m    666\u001b[0m     dialect,\n\u001b[0;32m    667\u001b[0m     delimiter,\n\u001b[1;32m   (...)\u001b[0m\n\u001b[0;32m    676\u001b[0m     defaults\u001b[38;5;241m=\u001b[39m{\u001b[38;5;124m\"\u001b[39m\u001b[38;5;124mdelimiter\u001b[39m\u001b[38;5;124m\"\u001b[39m: \u001b[38;5;124m\"\u001b[39m\u001b[38;5;124m,\u001b[39m\u001b[38;5;124m\"\u001b[39m},\n\u001b[0;32m    677\u001b[0m )\n\u001b[0;32m    678\u001b[0m kwds\u001b[38;5;241m.\u001b[39mupdate(kwds_defaults)\n\u001b[1;32m--> 680\u001b[0m \u001b[38;5;28;01mreturn\u001b[39;00m \u001b[43m_read\u001b[49m\u001b[43m(\u001b[49m\u001b[43mfilepath_or_buffer\u001b[49m\u001b[43m,\u001b[49m\u001b[43m \u001b[49m\u001b[43mkwds\u001b[49m\u001b[43m)\u001b[49m\n",
      "File \u001b[1;32m~\\lib\\site-packages\\pandas\\io\\parsers\\readers.py:581\u001b[0m, in \u001b[0;36m_read\u001b[1;34m(filepath_or_buffer, kwds)\u001b[0m\n\u001b[0;32m    578\u001b[0m     \u001b[38;5;28;01mreturn\u001b[39;00m parser\n\u001b[0;32m    580\u001b[0m \u001b[38;5;28;01mwith\u001b[39;00m parser:\n\u001b[1;32m--> 581\u001b[0m     \u001b[38;5;28;01mreturn\u001b[39;00m \u001b[43mparser\u001b[49m\u001b[38;5;241;43m.\u001b[39;49m\u001b[43mread\u001b[49m\u001b[43m(\u001b[49m\u001b[43mnrows\u001b[49m\u001b[43m)\u001b[49m\n",
      "File \u001b[1;32m~\\lib\\site-packages\\pandas\\io\\parsers\\readers.py:1254\u001b[0m, in \u001b[0;36mTextFileReader.read\u001b[1;34m(self, nrows)\u001b[0m\n\u001b[0;32m   1252\u001b[0m nrows \u001b[38;5;241m=\u001b[39m validate_integer(\u001b[38;5;124m\"\u001b[39m\u001b[38;5;124mnrows\u001b[39m\u001b[38;5;124m\"\u001b[39m, nrows)\n\u001b[0;32m   1253\u001b[0m \u001b[38;5;28;01mtry\u001b[39;00m:\n\u001b[1;32m-> 1254\u001b[0m     index, columns, col_dict \u001b[38;5;241m=\u001b[39m \u001b[38;5;28;43mself\u001b[39;49m\u001b[38;5;241;43m.\u001b[39;49m\u001b[43m_engine\u001b[49m\u001b[38;5;241;43m.\u001b[39;49m\u001b[43mread\u001b[49m\u001b[43m(\u001b[49m\u001b[43mnrows\u001b[49m\u001b[43m)\u001b[49m\n\u001b[0;32m   1255\u001b[0m \u001b[38;5;28;01mexcept\u001b[39;00m \u001b[38;5;167;01mException\u001b[39;00m:\n\u001b[0;32m   1256\u001b[0m     \u001b[38;5;28mself\u001b[39m\u001b[38;5;241m.\u001b[39mclose()\n",
      "File \u001b[1;32m~\\lib\\site-packages\\pandas\\io\\parsers\\c_parser_wrapper.py:225\u001b[0m, in \u001b[0;36mCParserWrapper.read\u001b[1;34m(self, nrows)\u001b[0m\n\u001b[0;32m    223\u001b[0m \u001b[38;5;28;01mtry\u001b[39;00m:\n\u001b[0;32m    224\u001b[0m     \u001b[38;5;28;01mif\u001b[39;00m \u001b[38;5;28mself\u001b[39m\u001b[38;5;241m.\u001b[39mlow_memory:\n\u001b[1;32m--> 225\u001b[0m         chunks \u001b[38;5;241m=\u001b[39m \u001b[38;5;28;43mself\u001b[39;49m\u001b[38;5;241;43m.\u001b[39;49m\u001b[43m_reader\u001b[49m\u001b[38;5;241;43m.\u001b[39;49m\u001b[43mread_low_memory\u001b[49m\u001b[43m(\u001b[49m\u001b[43mnrows\u001b[49m\u001b[43m)\u001b[49m\n\u001b[0;32m    226\u001b[0m         \u001b[38;5;66;03m# destructive to chunks\u001b[39;00m\n\u001b[0;32m    227\u001b[0m         data \u001b[38;5;241m=\u001b[39m _concatenate_chunks(chunks)\n",
      "File \u001b[1;32m~\\lib\\site-packages\\pandas\\_libs\\parsers.pyx:805\u001b[0m, in \u001b[0;36mpandas._libs.parsers.TextReader.read_low_memory\u001b[1;34m()\u001b[0m\n",
      "File \u001b[1;32m~\\lib\\site-packages\\pandas\\_libs\\parsers.pyx:861\u001b[0m, in \u001b[0;36mpandas._libs.parsers.TextReader._read_rows\u001b[1;34m()\u001b[0m\n",
      "File \u001b[1;32m~\\lib\\site-packages\\pandas\\_libs\\parsers.pyx:847\u001b[0m, in \u001b[0;36mpandas._libs.parsers.TextReader._tokenize_rows\u001b[1;34m()\u001b[0m\n",
      "File \u001b[1;32m~\\lib\\site-packages\\pandas\\_libs\\parsers.pyx:1960\u001b[0m, in \u001b[0;36mpandas._libs.parsers.raise_parser_error\u001b[1;34m()\u001b[0m\n",
      "\u001b[1;31mParserError\u001b[0m: Error tokenizing data. C error: Expected 2 fields in line 5, saw 4\n"
     ]
    }
   ],
   "source": [
    "\n",
    "data = pd.read_csv(\"canalys_smartphone_model_level_estimates.csv\", encoding = 'ISO-8859-1')\n",
    "data1 = pd.read_csv(\"forex_rate.csv\")\n",
    "\n"
   ]
  },
  {
   "cell_type": "code",
   "execution_count": null,
   "id": "d9301a0f",
   "metadata": {},
   "outputs": [],
   "source": []
  },
  {
   "cell_type": "code",
   "execution_count": null,
   "id": "b15f7432",
   "metadata": {},
   "outputs": [],
   "source": []
  },
  {
   "cell_type": "code",
   "execution_count": 38,
   "id": "3e0ce2d8",
   "metadata": {},
   "outputs": [
    {
     "ename": "NameError",
     "evalue": "name 'data' is not defined",
     "output_type": "error",
     "traceback": [
      "\u001b[1;31m---------------------------------------------------------------------------\u001b[0m",
      "\u001b[1;31mNameError\u001b[0m                                 Traceback (most recent call last)",
      "Input \u001b[1;32mIn [38]\u001b[0m, in \u001b[0;36m<cell line: 1>\u001b[1;34m()\u001b[0m\n\u001b[1;32m----> 1\u001b[0m df \u001b[38;5;241m=\u001b[39m pd\u001b[38;5;241m.\u001b[39mDataFrame(\u001b[43mdata\u001b[49m)\n",
      "\u001b[1;31mNameError\u001b[0m: name 'data' is not defined"
     ]
    }
   ],
   "source": [
    "df = pd.DataFrame(data)"
   ]
  },
  {
   "cell_type": "code",
   "execution_count": 39,
   "id": "b1ad2a8a",
   "metadata": {},
   "outputs": [
    {
     "ename": "NameError",
     "evalue": "name 'df' is not defined",
     "output_type": "error",
     "traceback": [
      "\u001b[1;31m---------------------------------------------------------------------------\u001b[0m",
      "\u001b[1;31mNameError\u001b[0m                                 Traceback (most recent call last)",
      "Input \u001b[1;32mIn [39]\u001b[0m, in \u001b[0;36m<cell line: 2>\u001b[1;34m()\u001b[0m\n\u001b[0;32m      1\u001b[0m \u001b[38;5;66;03m#df3 = df.groupby(['Vendor'].['Xiaomi'])\u001b[39;00m\n\u001b[1;32m----> 2\u001b[0m df1 \u001b[38;5;241m=\u001b[39m \u001b[43mdf\u001b[49m\u001b[38;5;241m.\u001b[39mBrand\u001b[38;5;241m.\u001b[39munique()\n",
      "\u001b[1;31mNameError\u001b[0m: name 'df' is not defined"
     ]
    }
   ],
   "source": [
    "#df3 = df.groupby(['Vendor'].['Xiaomi'])\n",
    "df1 = df.Brand.unique()"
   ]
  },
  {
   "cell_type": "code",
   "execution_count": 40,
   "id": "932e4ff4",
   "metadata": {},
   "outputs": [
    {
     "ename": "NameError",
     "evalue": "name 'df' is not defined",
     "output_type": "error",
     "traceback": [
      "\u001b[1;31m---------------------------------------------------------------------------\u001b[0m",
      "\u001b[1;31mNameError\u001b[0m                                 Traceback (most recent call last)",
      "Input \u001b[1;32mIn [40]\u001b[0m, in \u001b[0;36m<cell line: 1>\u001b[1;34m()\u001b[0m\n\u001b[1;32m----> 1\u001b[0m df2 \u001b[38;5;241m=\u001b[39m \u001b[43mdf\u001b[49m[df\u001b[38;5;241m.\u001b[39mBrand\u001b[38;5;241m.\u001b[39misin([\u001b[38;5;124m'\u001b[39m\u001b[38;5;124mXiaomi\u001b[39m\u001b[38;5;124m'\u001b[39m])]\n",
      "\u001b[1;31mNameError\u001b[0m: name 'df' is not defined"
     ]
    }
   ],
   "source": [
    "df2 = df[df.Brand.isin(['Xiaomi'])]"
   ]
  },
  {
   "cell_type": "code",
   "execution_count": 41,
   "id": "cab221ff",
   "metadata": {},
   "outputs": [
    {
     "ename": "NameError",
     "evalue": "name 'df2' is not defined",
     "output_type": "error",
     "traceback": [
      "\u001b[1;31m---------------------------------------------------------------------------\u001b[0m",
      "\u001b[1;31mNameError\u001b[0m                                 Traceback (most recent call last)",
      "Input \u001b[1;32mIn [41]\u001b[0m, in \u001b[0;36m<cell line: 1>\u001b[1;34m()\u001b[0m\n\u001b[1;32m----> 1\u001b[0m df4 \u001b[38;5;241m=\u001b[39m \u001b[43mdf2\u001b[49m[df2\u001b[38;5;241m.\u001b[39mYear\u001b[38;5;241m.\u001b[39misin([\u001b[38;5;241m2017\u001b[39m])]\n\u001b[0;32m      2\u001b[0m df5 \u001b[38;5;241m=\u001b[39m df4[df4\u001b[38;5;241m.\u001b[39mQuarter\u001b[38;5;241m.\u001b[39misin([\u001b[38;5;241m4\u001b[39m])]\n\u001b[0;32m      3\u001b[0m df6 \u001b[38;5;241m=\u001b[39m df2[df2\u001b[38;5;241m.\u001b[39mYear\u001b[38;5;241m.\u001b[39misin([\u001b[38;5;241m2018\u001b[39m])]\n",
      "\u001b[1;31mNameError\u001b[0m: name 'df2' is not defined"
     ]
    }
   ],
   "source": [
    "df4 = df2[df2.Year.isin([2017])]\n",
    "df5 = df4[df4.Quarter.isin([4])]\n",
    "df6 = df2[df2.Year.isin([2018])]\n",
    "df7 = df6[df6.Quarter.isin([1])]\n",
    "df8 = df6[df6.Quarter.isin([4])]\n",
    "df9 = df2[df2.Year.isin([2019])]\n",
    "df10 = df9[df9.Quarter.isin([1])]\n",
    "\n",
    "final1 = df5.groupby('Market')['Units'].sum().reset_index(name= '2017 Q4')\n",
    "final1['Rank 2017 Q4'] = final1['2017 Q4'].rank(ascending=False)\n",
    "final2 = df7.groupby('Market')['Units'].sum().reset_index(name= '2018 Q1')\n",
    "final2['Rank 2018 Q1'] = final2['2018 Q1'].rank(ascending=False)\n",
    "final3 = df8.groupby('Market')['Units'].sum().reset_index(name= '2018 Q4')\n",
    "final3['Rank 2018 Q4'] = final3['2018 Q4'].rank(ascending=False)\n",
    "final4 = df10.groupby('Market')['Units'].sum().reset_index(name= '2019 Q1')\n",
    "final4['Rank 2019 Q1'] = final4['2019 Q1'].rank(ascending=False)\n",
    "#final4 = final4.drop(final4.index[final4['Rank 2019 Q1'] > 5], inplace=True)\n",
    "final4 = final4[final4['Rank 2019 Q1'] < 6]\n"
   ]
  },
  {
   "cell_type": "code",
   "execution_count": null,
   "id": "876bf4b9",
   "metadata": {},
   "outputs": [],
   "source": [
    "dfs = [final1, final2, final3, final4]"
   ]
  },
  {
   "cell_type": "code",
   "execution_count": 42,
   "id": "0b8e2639",
   "metadata": {},
   "outputs": [
    {
     "ename": "NameError",
     "evalue": "name 'dfs' is not defined",
     "output_type": "error",
     "traceback": [
      "\u001b[1;31m---------------------------------------------------------------------------\u001b[0m",
      "\u001b[1;31mNameError\u001b[0m                                 Traceback (most recent call last)",
      "Input \u001b[1;32mIn [42]\u001b[0m, in \u001b[0;36m<cell line: 2>\u001b[1;34m()\u001b[0m\n\u001b[0;32m      1\u001b[0m \u001b[38;5;66;03m#merge all DataFrames into one\u001b[39;00m\n\u001b[0;32m      2\u001b[0m final_df \u001b[38;5;241m=\u001b[39m reduce(\u001b[38;5;28;01mlambda\u001b[39;00m  left,right: pd\u001b[38;5;241m.\u001b[39mmerge(left,right,on\u001b[38;5;241m=\u001b[39m[\u001b[38;5;124m'\u001b[39m\u001b[38;5;124mMarket\u001b[39m\u001b[38;5;124m'\u001b[39m],\n\u001b[1;32m----> 3\u001b[0m                                             how\u001b[38;5;241m=\u001b[39m\u001b[38;5;124m'\u001b[39m\u001b[38;5;124mouter\u001b[39m\u001b[38;5;124m'\u001b[39m), \u001b[43mdfs\u001b[49m)\n\u001b[0;32m      4\u001b[0m final_df \u001b[38;5;241m=\u001b[39m final_df\u001b[38;5;241m.\u001b[39mfillna(\u001b[38;5;124m'\u001b[39m\u001b[38;5;124mNAN\u001b[39m\u001b[38;5;124m'\u001b[39m)\n\u001b[0;32m      5\u001b[0m dff1 \u001b[38;5;241m=\u001b[39m pd\u001b[38;5;241m.\u001b[39mDataFrame(data1)\n",
      "\u001b[1;31mNameError\u001b[0m: name 'dfs' is not defined"
     ]
    }
   ],
   "source": [
    "#merge all DataFrames into one\n",
    "final_df = reduce(lambda  left,right: pd.merge(left,right,on=['Market'],\n",
    "                                            how='outer'), dfs)\n",
    "final_df = final_df.fillna('NAN')\n",
    "dff1 = pd.DataFrame(data1)\n",
    "merged = pd.merge(data1, final_df, on ='Market', how =\"inner\")\n",
    "merged = merged.drop(['Currency', 'Exchange rate', 'VAT'], axis=1)  \n",
    "merged = merged.to_csv(r'C:\\Users\\Keshav Pathak\\Desktop\\finalXiaomi.csv', index = False, header=True)"
   ]
  },
  {
   "cell_type": "code",
   "execution_count": 43,
   "id": "e6f5e691",
   "metadata": {},
   "outputs": [
    {
     "ename": "NameError",
     "evalue": "name 'merged' is not defined",
     "output_type": "error",
     "traceback": [
      "\u001b[1;31m---------------------------------------------------------------------------\u001b[0m",
      "\u001b[1;31mNameError\u001b[0m                                 Traceback (most recent call last)",
      "Input \u001b[1;32mIn [43]\u001b[0m, in \u001b[0;36m<cell line: 1>\u001b[1;34m()\u001b[0m\n\u001b[1;32m----> 1\u001b[0m \u001b[43mmerged\u001b[49m\n",
      "\u001b[1;31mNameError\u001b[0m: name 'merged' is not defined"
     ]
    }
   ],
   "source": [
    "merged"
   ]
  },
  {
   "cell_type": "code",
   "execution_count": 44,
   "id": "a4dd9659",
   "metadata": {},
   "outputs": [],
   "source": [
    "#df2.Brand.unique()"
   ]
  },
  {
   "cell_type": "code",
   "execution_count": 45,
   "id": "320202d1",
   "metadata": {},
   "outputs": [],
   "source": [
    "# Using groupby() and count()\n",
    "#df1 = df4.groupby(['Market','Quarter','Year'])['Units'].sum()"
   ]
  },
  {
   "cell_type": "code",
   "execution_count": null,
   "id": "b4a709e9",
   "metadata": {},
   "outputs": [],
   "source": []
  },
  {
   "cell_type": "code",
   "execution_count": 46,
   "id": "d28e1fb0",
   "metadata": {},
   "outputs": [],
   "source": [
    "#df2 = df2.to_csv(r'C:\\Users\\Keshav Pathak\\Desktop\\market3.csv', index = False, header=True)"
   ]
  },
  {
   "cell_type": "code",
   "execution_count": null,
   "id": "efc6172d",
   "metadata": {},
   "outputs": [],
   "source": [
    "\n"
   ]
  },
  {
   "cell_type": "code",
   "execution_count": 47,
   "id": "f85c219a",
   "metadata": {},
   "outputs": [],
   "source": [
    "#df2 = df1.to_csv(r'C:\\Users\\Keshav Pathak\\Desktop\\market5.csv', index = False, header=True)"
   ]
  },
  {
   "cell_type": "code",
   "execution_count": 48,
   "id": "c2789575",
   "metadata": {},
   "outputs": [],
   "source": [
    "#df2 = df.merge(df3[['Market', 'Year']])\n"
   ]
  },
  {
   "cell_type": "code",
   "execution_count": null,
   "id": "6078b68c",
   "metadata": {
    "scrolled": true
   },
   "outputs": [],
   "source": []
  },
  {
   "cell_type": "code",
   "execution_count": 49,
   "id": "9c0dd1ba",
   "metadata": {},
   "outputs": [],
   "source": [
    "#gkk = df2.groupby(['Market', 'Units'])"
   ]
  },
  {
   "cell_type": "code",
   "execution_count": 50,
   "id": "ecb361a3",
   "metadata": {},
   "outputs": [],
   "source": [
    "#gkk.first()"
   ]
  },
  {
   "cell_type": "code",
   "execution_count": null,
   "id": "12d3f06a",
   "metadata": {},
   "outputs": [],
   "source": []
  },
  {
   "cell_type": "code",
   "execution_count": null,
   "id": "818a42fd",
   "metadata": {},
   "outputs": [],
   "source": []
  },
  {
   "cell_type": "code",
   "execution_count": null,
   "id": "952d6633",
   "metadata": {},
   "outputs": [],
   "source": []
  },
  {
   "cell_type": "code",
   "execution_count": 51,
   "id": "e0a7bd12",
   "metadata": {},
   "outputs": [],
   "source": [
    "#df4 = df2[df2.Year.isin([2017])]\n",
    "#df5 = df4[df4.Quarter.isin([4])]"
   ]
  },
  {
   "cell_type": "code",
   "execution_count": null,
   "id": "3f0cae98",
   "metadata": {},
   "outputs": [],
   "source": []
  },
  {
   "cell_type": "code",
   "execution_count": 52,
   "id": "f1f7474a",
   "metadata": {},
   "outputs": [],
   "source": [
    "#final1 = df5.groupby('Market')['Units'].sum().reset_index(name= '2017 Q4')"
   ]
  },
  {
   "cell_type": "code",
   "execution_count": null,
   "id": "b3f3ce55",
   "metadata": {},
   "outputs": [],
   "source": []
  },
  {
   "cell_type": "code",
   "execution_count": 53,
   "id": "34ff2916",
   "metadata": {},
   "outputs": [],
   "source": [
    "\n",
    "#final1=final1.groupby('sell')['value'].sum()        .reset_index()   .rename(columns={'sum':'valuesum','sell' : 'selltime'})"
   ]
  },
  {
   "cell_type": "code",
   "execution_count": null,
   "id": "b765d176",
   "metadata": {},
   "outputs": [],
   "source": []
  },
  {
   "cell_type": "code",
   "execution_count": null,
   "id": "f3dfa021",
   "metadata": {},
   "outputs": [],
   "source": []
  },
  {
   "cell_type": "code",
   "execution_count": null,
   "id": "655237f9",
   "metadata": {},
   "outputs": [],
   "source": []
  },
  {
   "cell_type": "code",
   "execution_count": null,
   "id": "b88d4941",
   "metadata": {},
   "outputs": [],
   "source": []
  },
  {
   "cell_type": "code",
   "execution_count": null,
   "id": "865c231e",
   "metadata": {},
   "outputs": [],
   "source": []
  },
  {
   "cell_type": "code",
   "execution_count": null,
   "id": "81f44cac",
   "metadata": {},
   "outputs": [],
   "source": []
  },
  {
   "cell_type": "code",
   "execution_count": null,
   "id": "4eb8dff6",
   "metadata": {},
   "outputs": [],
   "source": []
  },
  {
   "cell_type": "code",
   "execution_count": null,
   "id": "738db390",
   "metadata": {},
   "outputs": [],
   "source": []
  },
  {
   "cell_type": "code",
   "execution_count": 54,
   "id": "750b4198",
   "metadata": {},
   "outputs": [],
   "source": [
    "#final1['Rank 2017 Q4'] = final1['2017 Q4'].rank(ascending=False)\n",
    "\n"
   ]
  },
  {
   "cell_type": "code",
   "execution_count": 24,
   "id": "19fa38e9",
   "metadata": {},
   "outputs": [],
   "source": [
    "#df['Score_Ranked_Desc'] = df['Score'].rank(ascending=False)\n",
    "\n"
   ]
  },
  {
   "cell_type": "code",
   "execution_count": null,
   "id": "1e479bb0",
   "metadata": {},
   "outputs": [],
   "source": []
  },
  {
   "cell_type": "code",
   "execution_count": null,
   "id": "6653e558",
   "metadata": {},
   "outputs": [],
   "source": []
  },
  {
   "cell_type": "code",
   "execution_count": null,
   "id": "cbd8d440",
   "metadata": {},
   "outputs": [],
   "source": []
  },
  {
   "cell_type": "code",
   "execution_count": null,
   "id": "c933ed70",
   "metadata": {},
   "outputs": [],
   "source": []
  },
  {
   "cell_type": "code",
   "execution_count": null,
   "id": "569e0d1a",
   "metadata": {},
   "outputs": [],
   "source": [
    "\n"
   ]
  },
  {
   "cell_type": "code",
   "execution_count": null,
   "id": "20d5dbd4",
   "metadata": {},
   "outputs": [],
   "source": []
  },
  {
   "cell_type": "code",
   "execution_count": null,
   "id": "48f03bcc",
   "metadata": {},
   "outputs": [],
   "source": []
  },
  {
   "cell_type": "code",
   "execution_count": null,
   "id": "f0f9c32b",
   "metadata": {},
   "outputs": [],
   "source": []
  },
  {
   "cell_type": "code",
   "execution_count": null,
   "id": "e1c89ca8",
   "metadata": {},
   "outputs": [],
   "source": []
  },
  {
   "cell_type": "code",
   "execution_count": 25,
   "id": "27c7cb60",
   "metadata": {},
   "outputs": [],
   "source": [
    "##df6 = df2[df2.Year.isin([2018])]\n",
    "#df7 = df6[df6.Quarter.isin([1])]\n",
    "#df8 = df6[df6.Quarter.isin([4])]"
   ]
  },
  {
   "cell_type": "code",
   "execution_count": 26,
   "id": "2902f9af",
   "metadata": {},
   "outputs": [],
   "source": [
    "#final2 = df7.groupby('Market')['Units'].sum().reset_index(name= '2018 Q1')\n",
    "#final2['Rank 2018 Q1'] = final2['2018 Q1'].rank(ascending=False)\n"
   ]
  },
  {
   "cell_type": "code",
   "execution_count": 27,
   "id": "f1ea6cee",
   "metadata": {},
   "outputs": [],
   "source": [
    "#final2['Rank 2018 Q1'] = final2['2018 Q1'].rank()\n",
    "#final2 = final2.set_index('Rank 2018 Q1')"
   ]
  },
  {
   "cell_type": "code",
   "execution_count": null,
   "id": "d43f4989",
   "metadata": {},
   "outputs": [],
   "source": []
  },
  {
   "cell_type": "code",
   "execution_count": null,
   "id": "88a80b41",
   "metadata": {},
   "outputs": [],
   "source": []
  },
  {
   "cell_type": "code",
   "execution_count": null,
   "id": "bcee66a4",
   "metadata": {},
   "outputs": [],
   "source": []
  },
  {
   "cell_type": "code",
   "execution_count": 28,
   "id": "e0f6184d",
   "metadata": {},
   "outputs": [],
   "source": [
    "#final3 = df8.groupby('Market')['Units'].sum().reset_index(name= '2018 Q4')\n",
    "#final3['Rank 2018 Q4'] = final3['2018 Q4'].rank(ascending=False)\n"
   ]
  },
  {
   "cell_type": "code",
   "execution_count": 29,
   "id": "2bd48a17",
   "metadata": {},
   "outputs": [],
   "source": [
    "#final3['Rank 2018 Q4'] = final3['2018 Q4'].rank(ascending=False)\n"
   ]
  },
  {
   "cell_type": "code",
   "execution_count": 30,
   "id": "08598a41",
   "metadata": {},
   "outputs": [],
   "source": [
    "#final3"
   ]
  },
  {
   "cell_type": "code",
   "execution_count": null,
   "id": "c6ae58f7",
   "metadata": {},
   "outputs": [],
   "source": []
  },
  {
   "cell_type": "code",
   "execution_count": null,
   "id": "bd179e46",
   "metadata": {},
   "outputs": [],
   "source": []
  },
  {
   "cell_type": "code",
   "execution_count": null,
   "id": "c3af224b",
   "metadata": {},
   "outputs": [],
   "source": []
  },
  {
   "cell_type": "code",
   "execution_count": null,
   "id": "08774843",
   "metadata": {},
   "outputs": [],
   "source": []
  },
  {
   "cell_type": "code",
   "execution_count": null,
   "id": "b4e7ee40",
   "metadata": {},
   "outputs": [],
   "source": []
  },
  {
   "cell_type": "code",
   "execution_count": null,
   "id": "a2c8586c",
   "metadata": {},
   "outputs": [],
   "source": []
  },
  {
   "cell_type": "code",
   "execution_count": null,
   "id": "f590ec94",
   "metadata": {},
   "outputs": [],
   "source": []
  },
  {
   "cell_type": "code",
   "execution_count": null,
   "id": "aaf6cdc2",
   "metadata": {},
   "outputs": [],
   "source": []
  },
  {
   "cell_type": "code",
   "execution_count": null,
   "id": "9ca4e986",
   "metadata": {},
   "outputs": [],
   "source": []
  },
  {
   "cell_type": "code",
   "execution_count": 31,
   "id": "c666d2ba",
   "metadata": {},
   "outputs": [],
   "source": [
    "#df9 = df2[df2.Year.isin([2019])]\n",
    "#df10 = df9[df9.Quarter.isin([1])]"
   ]
  },
  {
   "cell_type": "code",
   "execution_count": 32,
   "id": "e5899c49",
   "metadata": {},
   "outputs": [],
   "source": [
    "#final4 = df10.groupby('Market')['Units'].sum().reset_index(name= '2019 Q1')\n",
    "#final4['Rank 2019 Q1'] = final4['2019 Q1'].rank(ascending=False)\n"
   ]
  },
  {
   "cell_type": "code",
   "execution_count": 33,
   "id": "f5e01d9b",
   "metadata": {},
   "outputs": [],
   "source": [
    "#final4['Rank 2019 Q1'] = final4['2019 Q1'].rank(ascending=False)\n"
   ]
  },
  {
   "cell_type": "code",
   "execution_count": 34,
   "id": "35ddf265",
   "metadata": {},
   "outputs": [],
   "source": [
    "#final4 = final4.drop(final4.index[final4['Rank 2019 Q1'] > 5], inplace=True)\n",
    "#final4 = final4[final4['Rank 2019 Q1'] < 6]\n",
    "\n"
   ]
  },
  {
   "cell_type": "code",
   "execution_count": 35,
   "id": "e0f4fec0",
   "metadata": {},
   "outputs": [],
   "source": [
    "#final4"
   ]
  },
  {
   "cell_type": "code",
   "execution_count": null,
   "id": "6acd2971",
   "metadata": {},
   "outputs": [],
   "source": []
  },
  {
   "cell_type": "code",
   "execution_count": null,
   "id": "1fb6e4c4",
   "metadata": {},
   "outputs": [],
   "source": []
  },
  {
   "cell_type": "code",
   "execution_count": 36,
   "id": "c2b67d39",
   "metadata": {},
   "outputs": [],
   "source": [
    "#mergedRes = pd.merge(dataFrame1, dataFrame2, on ='Car', how =\"outer\")\n",
    "\n"
   ]
  },
  {
   "cell_type": "code",
   "execution_count": 37,
   "id": "6038d6cf",
   "metadata": {},
   "outputs": [],
   "source": [
    "#sheet = pd.merge(final1, final2, final3, final4, on ='Market', how =\"outer\")"
   ]
  },
  {
   "cell_type": "code",
   "execution_count": 38,
   "id": "e3b84ab2",
   "metadata": {},
   "outputs": [],
   "source": [
    "#dfs = [final1, final2, final3, final4]"
   ]
  },
  {
   "cell_type": "code",
   "execution_count": null,
   "id": "dbac78a7",
   "metadata": {},
   "outputs": [],
   "source": []
  },
  {
   "cell_type": "code",
   "execution_count": null,
   "id": "1026af81",
   "metadata": {},
   "outputs": [],
   "source": []
  },
  {
   "cell_type": "code",
   "execution_count": 51,
   "id": "189e06ac",
   "metadata": {},
   "outputs": [],
   "source": [
    "#merge all DataFrames into one\n",
    "#final_df = reduce(lambda  left,right: pd.merge(left,right,on=['Market'],\n",
    "\n",
    "                                             #  how='outer'), dfs)\n",
    "#final_df = final_df.fillna('NAN')\n",
    "#dff1 = pd.DataFrame(data1)\n",
    "#merged = pd.merge(data1, final_df, on ='Market', how =\"inner\")\n",
    "#merged = merged.drop(['Currency', 'Exchange rate', 'VAT'], axis=1)  \n",
    "#merged = merged.to_csv(r'C:\\Users\\Keshav Pathak\\Desktop\\finalXiaomi.csv', index = False, header=True#)"
   ]
  },
  {
   "cell_type": "code",
   "execution_count": 52,
   "id": "4fb20a3f",
   "metadata": {},
   "outputs": [],
   "source": [
    "\n",
    "#final_df = final_df.fillna('NAN')\n"
   ]
  },
  {
   "cell_type": "code",
   "execution_count": 53,
   "id": "75e80486",
   "metadata": {},
   "outputs": [],
   "source": [
    "#sort using sub region\n"
   ]
  },
  {
   "cell_type": "code",
   "execution_count": 42,
   "id": "bc598751",
   "metadata": {},
   "outputs": [],
   "source": [
    "#final_df"
   ]
  },
  {
   "cell_type": "code",
   "execution_count": null,
   "id": "1c1df5bb",
   "metadata": {
    "scrolled": true
   },
   "outputs": [],
   "source": []
  },
  {
   "cell_type": "code",
   "execution_count": null,
   "id": "68c90c68",
   "metadata": {},
   "outputs": [],
   "source": []
  },
  {
   "cell_type": "code",
   "execution_count": 43,
   "id": "d056240f",
   "metadata": {},
   "outputs": [],
   "source": [
    "#merged = pd.merge(data1, df2, on ='Market', how =\"outer\")\n"
   ]
  },
  {
   "cell_type": "code",
   "execution_count": 44,
   "id": "74ba6c92",
   "metadata": {},
   "outputs": [],
   "source": [
    "#dff1 = pd.DataFrame(data1)\n",
    "#merged = pd.merge(data1, final_df, on ='Market', how =\"inner\")"
   ]
  },
  {
   "cell_type": "code",
   "execution_count": 45,
   "id": "d017ce3d",
   "metadata": {},
   "outputs": [],
   "source": [
    "#merged"
   ]
  },
  {
   "cell_type": "code",
   "execution_count": null,
   "id": "332809fc",
   "metadata": {},
   "outputs": [],
   "source": []
  },
  {
   "cell_type": "code",
   "execution_count": 46,
   "id": "460b3126",
   "metadata": {},
   "outputs": [],
   "source": [
    "#final4['Rank 2019 Q1'] = final4['2019 Q1'].rank(ascending=False)\n",
    "\n"
   ]
  },
  {
   "cell_type": "code",
   "execution_count": 47,
   "id": "4ab7e075",
   "metadata": {},
   "outputs": [],
   "source": [
    "# remove rows using the drop() function\n",
    "\n",
    "# display the dataframe\n",
    "#print(merged)"
   ]
  },
  {
   "cell_type": "code",
   "execution_count": 48,
   "id": "ab7b2d27",
   "metadata": {},
   "outputs": [],
   "source": [
    "#merged = merged.drop(['Currency', 'Exchange rate', 'VAT'], axis=1)  \n"
   ]
  },
  {
   "cell_type": "code",
   "execution_count": 49,
   "id": "f31bc4e6",
   "metadata": {},
   "outputs": [],
   "source": [
    "#merged"
   ]
  },
  {
   "cell_type": "code",
   "execution_count": 50,
   "id": "94396537",
   "metadata": {},
   "outputs": [],
   "source": [
    "#merged = merged.to_csv(r'C:\\Users\\Keshav Pathak\\Desktop\\finalXiaomi.csv', index = False, header=True)"
   ]
  },
  {
   "cell_type": "code",
   "execution_count": null,
   "id": "b40b4396",
   "metadata": {},
   "outputs": [],
   "source": []
  },
  {
   "cell_type": "code",
   "execution_count": null,
   "id": "2111c643",
   "metadata": {},
   "outputs": [],
   "source": []
  },
  {
   "cell_type": "code",
   "execution_count": null,
   "id": "3e66cf06",
   "metadata": {},
   "outputs": [],
   "source": []
  },
  {
   "cell_type": "code",
   "execution_count": null,
   "id": "f939a7c8",
   "metadata": {},
   "outputs": [],
   "source": []
  },
  {
   "cell_type": "code",
   "execution_count": null,
   "id": "7d74e0ab",
   "metadata": {},
   "outputs": [],
   "source": []
  },
  {
   "cell_type": "code",
   "execution_count": null,
   "id": "27dbdad5",
   "metadata": {},
   "outputs": [],
   "source": []
  },
  {
   "cell_type": "code",
   "execution_count": null,
   "id": "8050be78",
   "metadata": {},
   "outputs": [],
   "source": []
  },
  {
   "cell_type": "code",
   "execution_count": null,
   "id": "283734fb",
   "metadata": {},
   "outputs": [],
   "source": []
  },
  {
   "cell_type": "code",
   "execution_count": null,
   "id": "670bdb72",
   "metadata": {},
   "outputs": [],
   "source": []
  },
  {
   "cell_type": "code",
   "execution_count": null,
   "id": "c86613c0",
   "metadata": {},
   "outputs": [],
   "source": []
  },
  {
   "cell_type": "code",
   "execution_count": null,
   "id": "e1913d30",
   "metadata": {},
   "outputs": [],
   "source": []
  },
  {
   "cell_type": "code",
   "execution_count": null,
   "id": "f0577696",
   "metadata": {},
   "outputs": [],
   "source": []
  },
  {
   "cell_type": "code",
   "execution_count": null,
   "id": "c9c7f5e0",
   "metadata": {},
   "outputs": [],
   "source": []
  },
  {
   "cell_type": "code",
   "execution_count": null,
   "id": "f1d079e4",
   "metadata": {},
   "outputs": [],
   "source": []
  },
  {
   "cell_type": "code",
   "execution_count": null,
   "id": "54ea326f",
   "metadata": {},
   "outputs": [],
   "source": []
  },
  {
   "cell_type": "code",
   "execution_count": null,
   "id": "699c1394",
   "metadata": {},
   "outputs": [],
   "source": []
  },
  {
   "cell_type": "code",
   "execution_count": null,
   "id": "60948db5",
   "metadata": {},
   "outputs": [],
   "source": []
  },
  {
   "cell_type": "code",
   "execution_count": null,
   "id": "537e59fe",
   "metadata": {},
   "outputs": [],
   "source": []
  },
  {
   "cell_type": "code",
   "execution_count": null,
   "id": "a5de4936",
   "metadata": {},
   "outputs": [],
   "source": []
  },
  {
   "cell_type": "code",
   "execution_count": null,
   "id": "1676e39c",
   "metadata": {},
   "outputs": [],
   "source": []
  }
 ],
 "metadata": {
  "kernelspec": {
   "display_name": "Python 3 (ipykernel)",
   "language": "python",
   "name": "python3"
  },
  "language_info": {
   "codemirror_mode": {
    "name": "ipython",
    "version": 3
   },
   "file_extension": ".py",
   "mimetype": "text/x-python",
   "name": "python",
   "nbconvert_exporter": "python",
   "pygments_lexer": "ipython3",
   "version": "3.10.4"
  }
 },
 "nbformat": 4,
 "nbformat_minor": 5
}
